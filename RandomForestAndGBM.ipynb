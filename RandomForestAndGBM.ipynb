{
 "cells": [
  {
   "cell_type": "code",
   "execution_count": null,
   "metadata": {},
   "outputs": [],
   "source": [
    "import pandas as pd\n",
    "import numpy as np\n",
    "from sklearn.ensemble import RandomForestRegressor, RandomForestClassifier\n",
    "from sklearn.ensemble import GradientBoostingClassifier\n",
    "from sklearn.preprocessing import LabelEncoder\n",
    "from sklearn import model_selection\n",
    "from fastai.imports import *\n",
    "from fastai.structured import *\n",
    "\n",
    "import warnings\n",
    "warnings.filterwarnings(\"ignore\")"
   ]
  },
  {
   "cell_type": "code",
   "execution_count": null,
   "metadata": {},
   "outputs": [],
   "source": [
    "df_train = pd.read_csv(\"train.csv\")\n",
    "\n",
    "df_train = pd.get_dummies(df_train, columns=['earthling_country','period_of_stay','earthling_type','swimming_pool','exercise_room','basketball_court',\\\n",
    "                                            'yoga_classes','club','free_wifi','hotel_name','earthling_continent','review_month','review_weekday'])\n",
    "\n",
    "from sklearn.preprocessing import LabelEncoder\n",
    "\n",
    "# Instantiate LabelEncoder\n",
    "le=LabelEncoder()\n",
    "\n",
    "# Iterate over all the values of each column and extract their dtypes\n",
    "for col in df_train.columns.values:\n",
    "    # Compare if the dtype is object\n",
    "    if df_train[col].dtypes=='object':\n",
    "    # Use LabelEncoder to do the numeric transformation\n",
    "        df_train[col]=le.fit_transform(df_train[col])\n",
    "        \n",
    "\n"
   ]
  },
  {
   "cell_type": "code",
   "execution_count": null,
   "metadata": {},
   "outputs": [],
   "source": [
    "df_train_x = df_train.drop(['score'], axis=1)\n",
    "df_train_y = df_train['score']\n",
    "\n",
    "# Baseline model\n",
    "m = RandomForestClassifier(n_estimators=30, n_jobs=-1)\n",
    "loocv = model_selection.LeaveOneOut()\n",
    "results = model_selection.cross_val_score(m, df_train_x, df_train_y, cv=loocv)"
   ]
  },
  {
   "cell_type": "code",
   "execution_count": null,
   "metadata": {},
   "outputs": [],
   "source": [
    "feature_importance = rf_feat_importance(m, df_train_x); fi[:10]\n",
    "\n",
    "to_keep = feature_importance[feature_importance.imp>0.005].cols; len(to_keep)\n",
    "\n",
    "df_train_x = df_train[to_keep].copy()\n",
    "\n",
    "# RF with new feature set\n",
    "results_new = model_selection.cross_val_score(m, df_train_x, df_train_y, cv=loocv)"
   ]
  },
  {
   "cell_type": "code",
   "execution_count": null,
   "metadata": {},
   "outputs": [],
   "source": [
    "# Hyperparameter tuning\n",
    "\n",
    "rf = RandomForestClassifier(n_estimators=40, min_samples_leaf=5, max_features=0.6,oob_score=True, n_jobs=-1, random_state=7)\n",
    "loocv = model_selection.LeaveOneOut()\n",
    "results_after_tuning = model_selection.cross_val_score(rf, df_train_x, df_train_y, cv=loocv)"
   ]
  },
  {
   "cell_type": "code",
   "execution_count": null,
   "metadata": {},
   "outputs": [],
   "source": [
    "gbm = GradientBoostingClassifier(n_estimators=40, random_state=7)\n",
    "results_with_gbm = model_selection.cross_val_score(gbm, df_train_x, df_train_y, cv=loocv)"
   ]
  },
  {
   "cell_type": "code",
   "execution_count": null,
   "metadata": {},
   "outputs": [],
   "source": [
    "df_test_pd = pd.read_csv('test.csv')\n",
    "\n",
    "df_test_pd = pd.get_dummies(df_test_pd, columns=['earthling_country','period_of_stay','earthling_type','swimming_pool','exercise_room','basketball_court',\\\n",
    "                                            'yoga_classes','club','free_wifi','hotel_name','earthling_continent','review_month','review_weekday'])"
   ]
  },
  {
   "cell_type": "code",
   "execution_count": null,
   "metadata": {},
   "outputs": [],
   "source": [
    "# Iterate over all the values of each column and extract their dtypes\n",
    "for col in df_test_pd.columns.values:\n",
    "    # Compare if the dtype is object\n",
    "    if df_test_pd[col].dtypes=='object':\n",
    "    # Use LabelEncoder to do the numeric transformation\n",
    "        df_test_pd[col]=le.fit_transform(df_test_pd[col])"
   ]
  },
  {
   "cell_type": "code",
   "execution_count": null,
   "metadata": {},
   "outputs": [],
   "source": [
    "df_test_pd = df_test_pd[to_keep].copy()\n",
    "\n",
    "rf.fit(df_train_x, df_train_y)\n",
    "rf_preds = rf.predict(df_test_pd)\n",
    "rf_preds = pd.DataFrame(rf_preds)\n",
    "rf_preds.to_csv('rf_preds_submission.csv', header=False, index=False)\n",
    "\n",
    "gbm.fit(df_train_x, df_train_y)\n",
    "gbm_preds = gbm.predict(df_test_pd)\n",
    "gbm_preds = pd.DataFrame(gbm_preds)\n",
    "gbm_preds.to_csv('gbm_preds_submission.csv', header=False, index=False)"
   ]
  }
 ],
 "metadata": {
  "kernelspec": {
   "display_name": "Python 3",
   "language": "python",
   "name": "python3"
  },
  "language_info": {
   "codemirror_mode": {
    "name": "ipython",
    "version": 3
   },
   "file_extension": ".py",
   "mimetype": "text/x-python",
   "name": "python",
   "nbconvert_exporter": "python",
   "pygments_lexer": "ipython3",
   "version": "3.6.5"
  },
  "latex_envs": {
   "LaTeX_envs_menu_present": true,
   "autoclose": false,
   "autocomplete": true,
   "bibliofile": "biblio.bib",
   "cite_by": "apalike",
   "current_citInitial": 1,
   "eqLabelWithNumbers": true,
   "eqNumInitial": 1,
   "hotkeys": {
    "equation": "Ctrl-E",
    "itemize": "Ctrl-I"
   },
   "labels_anchors": false,
   "latex_user_defs": false,
   "report_style_numbering": false,
   "user_envs_cfg": false
  },
  "toc": {
   "base_numbering": 1,
   "nav_menu": {},
   "number_sections": true,
   "sideBar": true,
   "skip_h1_title": false,
   "title_cell": "Table of Contents",
   "title_sidebar": "Contents",
   "toc_cell": false,
   "toc_position": {},
   "toc_section_display": true,
   "toc_window_display": false
  }
 },
 "nbformat": 4,
 "nbformat_minor": 2
}
