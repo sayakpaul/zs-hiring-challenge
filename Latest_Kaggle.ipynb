{
 "cells": [
  {
   "cell_type": "code",
   "execution_count": null,
   "metadata": {},
   "outputs": [],
   "source": [
    "!pip install fastai==0.7.0"
   ]
  },
  {
   "cell_type": "code",
   "execution_count": 2,
   "metadata": {
    "_kg_hide-output": true,
    "_uuid": "276428e0cf6975024de61518bfbc1f2e62831ff1"
   },
   "outputs": [
    {
     "name": "stderr",
     "output_type": "stream",
     "text": [
      "/usr/local/lib/python3.6/site-packages/sklearn/ensemble/weight_boosting.py:29: DeprecationWarning: numpy.core.umath_tests is an internal NumPy module and should not be imported. It will be removed in a future NumPy release.\n",
      "  from numpy.core.umath_tests import inner1d\n"
     ]
    }
   ],
   "source": [
    "import pandas as pd\n",
    "import numpy as np\n",
    "from sklearn.ensemble import RandomForestRegressor, RandomForestClassifier\n",
    "from sklearn.ensemble import GradientBoostingClassifier\n",
    "from sklearn import model_selection\n",
    "from sklearn.preprocessing import LabelEncoder\n",
    "from fastai.imports import *\n",
    "from fastai.structured import *\n",
    "    \n",
    "import warnings\n",
    "warnings.filterwarnings(\"ignore\")"
   ]
  },
  {
   "cell_type": "markdown",
   "metadata": {
    "_uuid": "c47b764bc3599e5d31130a0ccca3e464c612fc87"
   },
   "source": [
    "### Preprocessing includes one-hot encoding for all the categoricals except for hotel ratings. That is label encoded. This cmobinations allows for a good feature space."
   ]
  },
  {
   "cell_type": "code",
   "execution_count": 3,
   "metadata": {
    "_uuid": "ce61dbc00e32ffbe58ff85f637401e2118e7ef30"
   },
   "outputs": [],
   "source": [
    "def load_and_prepare_the_train_set():\n",
    "    df_train = pd.read_csv(\"train.csv\")\n",
    "    df_train = pd.get_dummies(df_train, columns=['earthling_country','period_of_stay','earthling_type','swimming_pool','exercise_room','basketball_court',\\\n",
    "        'yoga_classes','club','free_wifi','hotel_name','earthling_continent','review_month','review_weekday'])\n",
    "\n",
    "    # Instantiate LabelEncoder\n",
    "    le=LabelEncoder()\n",
    "\n",
    "    # Iterate over all the values of each column and extract their dtypes\n",
    "    for col in df_train.columns.values:\n",
    "    # Compare if the dtype is object\n",
    "        if df_train[col].dtypes=='object':\n",
    "        # Use LabelEncoder to do the numeric transformation\n",
    "            df_train[col]=le.fit_transform(df_train[col])\n",
    "    \n",
    "    df_train_x = df_train.drop(['score'], axis=1)\n",
    "    df_train_y = df_train['score']\n",
    "    \n",
    "    return df_train, df_train_x, df_train_y"
   ]
  },
  {
   "cell_type": "code",
   "execution_count": 4,
   "metadata": {
    "_uuid": "d1f8753f86c674007320884d1281b04faa8863b5"
   },
   "outputs": [
    {
     "name": "stdout",
     "output_type": "stream",
     "text": [
      "113\n",
      "112\n"
     ]
    }
   ],
   "source": [
    "df_train, df_train_x, df_train_y = load_and_prepare_the_train_set()\n",
    "print(len(df_train.columns))\n",
    "print(len(df_train_x.columns))"
   ]
  },
  {
   "cell_type": "markdown",
   "metadata": {
    "_uuid": "e2d2f84f7b0107741d4f7ec57a5be346ad421d36"
   },
   "source": [
    "# Training and validation split with 80:20 ratio"
   ]
  },
  {
   "cell_type": "code",
   "execution_count": 5,
   "metadata": {
    "_uuid": "8ac67ef6bedef1da92a2c773fc7c6dea9b12469a"
   },
   "outputs": [
    {
     "data": {
      "text/plain": [
       "((282, 112), (282,), (70, 112))"
      ]
     },
     "execution_count": 5,
     "metadata": {},
     "output_type": "execute_result"
    }
   ],
   "source": [
    "def split_vals(a,n): return a[:n].copy(), a[n:].copy()\n",
    "\n",
    "df_train, df_train_x, df_train_y = load_and_prepare_the_train_set()\n",
    "\n",
    "n_valid = 70  \n",
    "n_trn = len(df_train_x)-n_valid\n",
    "raw_train, raw_valid = split_vals(df_train, n_trn)\n",
    "X_train, X_valid = split_vals(df_train_x, n_trn)\n",
    "y_train, y_valid = split_vals(df_train_y, n_trn)\n",
    "\n",
    "X_train.shape, y_train.shape, X_valid.shape"
   ]
  },
  {
   "cell_type": "markdown",
   "metadata": {
    "_uuid": "eafef884e66e1e300696d27dfddad249d3e80936"
   },
   "source": [
    "# Baselining on leave-out cross validation with random forest"
   ]
  },
  {
   "cell_type": "code",
   "execution_count": 6,
   "metadata": {
    "_uuid": "e86c8b99bff572358c191a5795d61a6f40da710b"
   },
   "outputs": [
    {
     "name": "stdout",
     "output_type": "stream",
     "text": [
      "Accuracy: 48.580% \n"
     ]
    }
   ],
   "source": [
    "rf = RandomForestClassifier(n_estimators=40, min_samples_leaf=5, max_features=0.6,oob_score=True, n_jobs=-1, random_state=7)\n",
    "loocv = model_selection.LeaveOneOut()\n",
    "results = model_selection.cross_val_score(rf, df_train_x, df_train_y, cv=loocv)\n",
    "print(\"Accuracy: %.3f%% \" % (results.mean()*100.0))"
   ]
  },
  {
   "cell_type": "code",
   "execution_count": 7,
   "metadata": {
    "_uuid": "9ed2ef1519a4a6c7cf15eb26f9116db617cc36f9"
   },
   "outputs": [
    {
     "data": {
      "text/plain": [
       "38.57142857142858"
      ]
     },
     "execution_count": 7,
     "metadata": {},
     "output_type": "execute_result"
    }
   ],
   "source": [
    "rf.fit(X_train, y_train)\n",
    "rf.score(X_valid,y_valid)*100.0"
   ]
  },
  {
   "cell_type": "markdown",
   "metadata": {
    "_uuid": "e277621b818b2645361fce039402be7a963b779d"
   },
   "source": [
    "# Now same thing with gradient boosting machine"
   ]
  },
  {
   "cell_type": "code",
   "execution_count": 8,
   "metadata": {
    "_uuid": "635f775760f88d356b298e9b28878b4a22ee2797"
   },
   "outputs": [
    {
     "name": "stdout",
     "output_type": "stream",
     "text": [
      "Accuracy: 48.864% \n"
     ]
    }
   ],
   "source": [
    "gbm = GradientBoostingClassifier(n_estimators=40, random_state=7)\n",
    "loocv = model_selection.LeaveOneOut()\n",
    "results = model_selection.cross_val_score(gbm, df_train_x, df_train_y, cv=loocv)\n",
    "print(\"Accuracy: %.3f%% \" % (results.mean()*100.0))"
   ]
  },
  {
   "cell_type": "code",
   "execution_count": 9,
   "metadata": {
    "_uuid": "63c378116a59cf4562b57dd7d25b6e65b2ccdad4"
   },
   "outputs": [
    {
     "data": {
      "text/plain": [
       "42.857142857142854"
      ]
     },
     "execution_count": 9,
     "metadata": {},
     "output_type": "execute_result"
    }
   ],
   "source": [
    "gbm.fit(X_train, y_train)\n",
    "gbm.score(X_valid,y_valid)*100.0"
   ]
  },
  {
   "cell_type": "markdown",
   "metadata": {
    "_uuid": "f095ba9399b67fb0bd95485c4be3e00a48f2bcd3"
   },
   "source": [
    "> GBM seems to be a better choice. So let's select the most important features as perceived by GBM."
   ]
  },
  {
   "cell_type": "code",
   "execution_count": 10,
   "metadata": {
    "_uuid": "10805de796ab9c1540bc50f08b3d31dca2ee95cf"
   },
   "outputs": [
    {
     "data": {
      "text/plain": [
       "47"
      ]
     },
     "execution_count": 10,
     "metadata": {},
     "output_type": "execute_result"
    }
   ],
   "source": [
    "fi = rf_feat_importance(gbm, X_train); fi[:10]\n",
    "to_keep = fi[fi.imp>0.005].cols; len(to_keep)"
   ]
  },
  {
   "cell_type": "markdown",
   "metadata": {
    "_uuid": "76f663e61b51e8c2bcc4cc824476f30daecea9e0"
   },
   "source": [
    "> Let's keep these 47 features and split the dataset once again."
   ]
  },
  {
   "cell_type": "code",
   "execution_count": 11,
   "metadata": {
    "_uuid": "5985fd8c357ddcc181e596a8a3644ff2252f1d6d"
   },
   "outputs": [
    {
     "data": {
      "text/plain": [
       "((282, 47), (282,), (70, 47))"
      ]
     },
     "execution_count": 11,
     "metadata": {},
     "output_type": "execute_result"
    }
   ],
   "source": [
    "df_train, df_train_x, df_train_y = load_and_prepare_the_train_set()\n",
    "df_train_x = df_train[to_keep].copy()\n",
    "\n",
    "n_valid = 70  \n",
    "n_trn = len(df_train_x)-n_valid\n",
    "raw_train, raw_valid = split_vals(df_train, n_trn)\n",
    "X_train, X_valid = split_vals(df_train_x, n_trn)\n",
    "y_train, y_valid = split_vals(df_train_y, n_trn)\n",
    "\n",
    "X_train.shape, y_train.shape, X_valid.shape"
   ]
  },
  {
   "cell_type": "markdown",
   "metadata": {
    "_uuid": "fe11e55b365846706f0aa3a3dd525c0ad7a6f0eb"
   },
   "source": [
    "## Fitting the GBM to the dataset with adjusted features"
   ]
  },
  {
   "cell_type": "code",
   "execution_count": 65,
   "metadata": {
    "_uuid": "cfd00501463bd15e45d66d7f4998b170aaff3b9b"
   },
   "outputs": [
    {
     "data": {
      "text/plain": [
       "44.285714285714285"
      ]
     },
     "execution_count": 65,
     "metadata": {},
     "output_type": "execute_result"
    }
   ],
   "source": [
    "gbm.fit(X_train, y_train)\n",
    "gbm.score(X_valid,y_valid)*100.0"
   ]
  },
  {
   "cell_type": "code",
   "execution_count": 66,
   "metadata": {
    "_uuid": "85eb17f902c57f7ae487b61b552b209531c590b7"
   },
   "outputs": [
    {
     "data": {
      "text/plain": [
       "41.42857142857143"
      ]
     },
     "execution_count": 66,
     "metadata": {},
     "output_type": "execute_result"
    }
   ],
   "source": [
    "# Random forest\n",
    "rf.fit(X_train,y_train)\n",
    "rf.score(X_valid,y_valid)*100.0"
   ]
  },
  {
   "cell_type": "code",
   "execution_count": null,
   "metadata": {
    "_kg_hide-output": true,
    "_uuid": "746c28f8aad70ac43f4ccc772fc3756d7d3ab6c7"
   },
   "outputs": [],
   "source": [
    "from scipy.cluster import hierarchy as hc\n",
    "corr = np.round(scipy.stats.spearmanr(df_train_x).correlation, 4)\n",
    "corr_condensed = hc.distance.squareform(1-corr)\n",
    "z = hc.linkage(corr_condensed, method='average')\n",
    "fig = plt.figure(figsize=(20,30))\n",
    "dendrogram = hc.dendrogram(z, labels=df_train_x.columns, orientation='left', leaf_font_size=16)\n",
    "plt.show()"
   ]
  },
  {
   "cell_type": "markdown",
   "metadata": {
    "_uuid": "385704706f6480ae49ccb2b76875d2664821f18e"
   },
   "source": [
    "# Hyperparameter tuning"
   ]
  },
  {
   "cell_type": "code",
   "execution_count": null,
   "metadata": {
    "_uuid": "df413d96cafe258c973373b62c38b435c6943785"
   },
   "outputs": [],
   "source": [
    "gbm"
   ]
  },
  {
   "cell_type": "markdown",
   "metadata": {
    "_uuid": "c02b417116f59e77fe6490ef84d7a3769eb5a6ca"
   },
   "source": [
    "# Test 1"
   ]
  },
  {
   "cell_type": "code",
   "execution_count": 13,
   "metadata": {
    "_uuid": "743e2b4580a6e3209f1fc9e5e7a533561cec8836"
   },
   "outputs": [],
   "source": [
    "from sklearn.model_selection import GridSearchCV"
   ]
  },
  {
   "cell_type": "code",
   "execution_count": 68,
   "metadata": {
    "_uuid": "0981580f004453cead68ae617a8bfcd12f979453"
   },
   "outputs": [
    {
     "name": "stdout",
     "output_type": "stream",
     "text": [
      "CPU times: user 4.52 s, sys: 248 ms, total: 4.77 s\n",
      "Wall time: 4min 20s\n"
     ]
    },
    {
     "data": {
      "text/plain": [
       "([mean: 0.44886, std: 0.49738, params: {'n_estimators': 20},\n",
       "  mean: 0.44886, std: 0.49738, params: {'n_estimators': 30},\n",
       "  mean: 0.44886, std: 0.49738, params: {'n_estimators': 40},\n",
       "  mean: 0.44886, std: 0.49738, params: {'n_estimators': 50},\n",
       "  mean: 0.44886, std: 0.49738, params: {'n_estimators': 60},\n",
       "  mean: 0.44886, std: 0.49738, params: {'n_estimators': 70},\n",
       "  mean: 0.44886, std: 0.49738, params: {'n_estimators': 80}],\n",
       " {'n_estimators': 20},\n",
       " 0.44886363636363635)"
      ]
     },
     "execution_count": 68,
     "metadata": {},
     "output_type": "execute_result"
    }
   ],
   "source": [
    "param_test1 = {'n_estimators':range(20,81,10)}\n",
    "gsearch1 = GridSearchCV(estimator = GradientBoostingClassifier(learning_rate=0.1, min_samples_split=500,\\\n",
    "                                                               min_samples_leaf=50,max_depth=8,max_features='sqrt',\\\n",
    "                                                               subsample=0.8,random_state=7), \n",
    "param_grid = param_test1, scoring='accuracy',n_jobs=-1,iid=False, cv=model_selection.LeaveOneOut())\n",
    "%time gsearch1.fit(df_train_x,df_train_y)\n",
    "\n",
    "gsearch1.grid_scores_, gsearch1.best_params_, gsearch1.best_score_"
   ]
  },
  {
   "cell_type": "code",
   "execution_count": 70,
   "metadata": {
    "_uuid": "96b0b01a51a2c54be949d8e32fd56cfb8bae2ec1"
   },
   "outputs": [
    {
     "data": {
      "text/plain": [
       "41.42857142857143"
      ]
     },
     "execution_count": 70,
     "metadata": {},
     "output_type": "execute_result"
    }
   ],
   "source": [
    "gsearch1.best_estimator_.score(X_valid, y_valid) * 100.0"
   ]
  },
  {
   "cell_type": "markdown",
   "metadata": {
    "_uuid": "59c40d437d515cf7479096bcfce3fc30349e1110"
   },
   "source": [
    "# Test 2"
   ]
  },
  {
   "cell_type": "code",
   "execution_count": 14,
   "metadata": {
    "_uuid": "3a05846cea60043aeae5ff464d09bc5ea58ace4d"
   },
   "outputs": [
    {
     "name": "stdout",
     "output_type": "stream",
     "text": [
      "CPU times: user 25 s, sys: 456 ms, total: 25.5 s\n",
      "Wall time: 23min 30s\n"
     ]
    },
    {
     "data": {
      "text/plain": [
       "([mean: 0.44886, std: 0.49738, params: {'max_depth': 5, 'min_samples_split': 200},\n",
       "  mean: 0.44886, std: 0.49738, params: {'max_depth': 5, 'min_samples_split': 400},\n",
       "  mean: 0.44886, std: 0.49738, params: {'max_depth': 5, 'min_samples_split': 600},\n",
       "  mean: 0.44886, std: 0.49738, params: {'max_depth': 5, 'min_samples_split': 800},\n",
       "  mean: 0.44886, std: 0.49738, params: {'max_depth': 5, 'min_samples_split': 1000},\n",
       "  mean: 0.45739, std: 0.49818, params: {'max_depth': 7, 'min_samples_split': 200},\n",
       "  mean: 0.44886, std: 0.49738, params: {'max_depth': 7, 'min_samples_split': 400},\n",
       "  mean: 0.44886, std: 0.49738, params: {'max_depth': 7, 'min_samples_split': 600},\n",
       "  mean: 0.44886, std: 0.49738, params: {'max_depth': 7, 'min_samples_split': 800},\n",
       "  mean: 0.44886, std: 0.49738, params: {'max_depth': 7, 'min_samples_split': 1000},\n",
       "  mean: 0.45170, std: 0.49766, params: {'max_depth': 9, 'min_samples_split': 200},\n",
       "  mean: 0.44886, std: 0.49738, params: {'max_depth': 9, 'min_samples_split': 400},\n",
       "  mean: 0.44886, std: 0.49738, params: {'max_depth': 9, 'min_samples_split': 600},\n",
       "  mean: 0.44886, std: 0.49738, params: {'max_depth': 9, 'min_samples_split': 800},\n",
       "  mean: 0.44886, std: 0.49738, params: {'max_depth': 9, 'min_samples_split': 1000},\n",
       "  mean: 0.44886, std: 0.49738, params: {'max_depth': 11, 'min_samples_split': 200},\n",
       "  mean: 0.44886, std: 0.49738, params: {'max_depth': 11, 'min_samples_split': 400},\n",
       "  mean: 0.44886, std: 0.49738, params: {'max_depth': 11, 'min_samples_split': 600},\n",
       "  mean: 0.44886, std: 0.49738, params: {'max_depth': 11, 'min_samples_split': 800},\n",
       "  mean: 0.44886, std: 0.49738, params: {'max_depth': 11, 'min_samples_split': 1000},\n",
       "  mean: 0.45170, std: 0.49766, params: {'max_depth': 13, 'min_samples_split': 200},\n",
       "  mean: 0.44886, std: 0.49738, params: {'max_depth': 13, 'min_samples_split': 400},\n",
       "  mean: 0.44886, std: 0.49738, params: {'max_depth': 13, 'min_samples_split': 600},\n",
       "  mean: 0.44886, std: 0.49738, params: {'max_depth': 13, 'min_samples_split': 800},\n",
       "  mean: 0.44886, std: 0.49738, params: {'max_depth': 13, 'min_samples_split': 1000},\n",
       "  mean: 0.45170, std: 0.49766, params: {'max_depth': 15, 'min_samples_split': 200},\n",
       "  mean: 0.44886, std: 0.49738, params: {'max_depth': 15, 'min_samples_split': 400},\n",
       "  mean: 0.44886, std: 0.49738, params: {'max_depth': 15, 'min_samples_split': 600},\n",
       "  mean: 0.44886, std: 0.49738, params: {'max_depth': 15, 'min_samples_split': 800},\n",
       "  mean: 0.44886, std: 0.49738, params: {'max_depth': 15, 'min_samples_split': 1000}],\n",
       " {'max_depth': 7, 'min_samples_split': 200},\n",
       " 0.45738636363636365)"
      ]
     },
     "execution_count": 14,
     "metadata": {},
     "output_type": "execute_result"
    }
   ],
   "source": [
    "param_test2 = {'max_depth':range(5,16,2), 'min_samples_split':range(200,1001,200)}\n",
    "gsearch2 = GridSearchCV(estimator = GradientBoostingClassifier(learning_rate=0.1, n_estimators=60, max_features='sqrt', subsample=0.8, random_state=10), \n",
    "param_grid = param_test2, scoring='accuracy',n_jobs=-1,iid=False, cv=model_selection.LeaveOneOut())\n",
    "%time gsearch2.fit(df_train_x,df_train_y)\n",
    "gsearch2.grid_scores_, gsearch2.best_params_, gsearch2.best_score_"
   ]
  },
  {
   "cell_type": "code",
   "execution_count": 15,
   "metadata": {
    "_uuid": "c795c2187071bc69e82292afb428cf7d728449ce"
   },
   "outputs": [
    {
     "data": {
      "text/plain": [
       "61.42857142857143"
      ]
     },
     "execution_count": 15,
     "metadata": {},
     "output_type": "execute_result"
    }
   ],
   "source": [
    "gsearch2.best_estimator_.score(X_valid, y_valid) * 100.0"
   ]
  },
  {
   "cell_type": "markdown",
   "metadata": {
    "_uuid": "177cbc62b05551170f23c61dd3c80894bcca9c9b"
   },
   "source": [
    "# Test 3"
   ]
  },
  {
   "cell_type": "code",
   "execution_count": 52,
   "metadata": {
    "_uuid": "81752a3d6dd6a4c193b7cc1ed89ab1aae9b83706"
   },
   "outputs": [
    {
     "name": "stdout",
     "output_type": "stream",
     "text": [
      "CPU times: user 25.5 s, sys: 1.78 s, total: 27.3 s\n",
      "Wall time: 22min 4s\n"
     ]
    },
    {
     "data": {
      "text/plain": [
       "([mean: 0.44886, std: 0.49738, params: {'min_samples_leaf': 30, 'min_samples_split': 1000},\n",
       "  mean: 0.44886, std: 0.49738, params: {'min_samples_leaf': 30, 'min_samples_split': 1200},\n",
       "  mean: 0.44886, std: 0.49738, params: {'min_samples_leaf': 30, 'min_samples_split': 1400},\n",
       "  mean: 0.44886, std: 0.49738, params: {'min_samples_leaf': 30, 'min_samples_split': 1600},\n",
       "  mean: 0.44886, std: 0.49738, params: {'min_samples_leaf': 30, 'min_samples_split': 1800},\n",
       "  mean: 0.44886, std: 0.49738, params: {'min_samples_leaf': 30, 'min_samples_split': 2000},\n",
       "  mean: 0.44886, std: 0.49738, params: {'min_samples_leaf': 40, 'min_samples_split': 1000},\n",
       "  mean: 0.44886, std: 0.49738, params: {'min_samples_leaf': 40, 'min_samples_split': 1200},\n",
       "  mean: 0.44886, std: 0.49738, params: {'min_samples_leaf': 40, 'min_samples_split': 1400},\n",
       "  mean: 0.44886, std: 0.49738, params: {'min_samples_leaf': 40, 'min_samples_split': 1600},\n",
       "  mean: 0.44886, std: 0.49738, params: {'min_samples_leaf': 40, 'min_samples_split': 1800},\n",
       "  mean: 0.44886, std: 0.49738, params: {'min_samples_leaf': 40, 'min_samples_split': 2000},\n",
       "  mean: 0.44886, std: 0.49738, params: {'min_samples_leaf': 50, 'min_samples_split': 1000},\n",
       "  mean: 0.44886, std: 0.49738, params: {'min_samples_leaf': 50, 'min_samples_split': 1200},\n",
       "  mean: 0.44886, std: 0.49738, params: {'min_samples_leaf': 50, 'min_samples_split': 1400},\n",
       "  mean: 0.44886, std: 0.49738, params: {'min_samples_leaf': 50, 'min_samples_split': 1600},\n",
       "  mean: 0.44886, std: 0.49738, params: {'min_samples_leaf': 50, 'min_samples_split': 1800},\n",
       "  mean: 0.44886, std: 0.49738, params: {'min_samples_leaf': 50, 'min_samples_split': 2000},\n",
       "  mean: 0.44886, std: 0.49738, params: {'min_samples_leaf': 60, 'min_samples_split': 1000},\n",
       "  mean: 0.44886, std: 0.49738, params: {'min_samples_leaf': 60, 'min_samples_split': 1200},\n",
       "  mean: 0.44886, std: 0.49738, params: {'min_samples_leaf': 60, 'min_samples_split': 1400},\n",
       "  mean: 0.44886, std: 0.49738, params: {'min_samples_leaf': 60, 'min_samples_split': 1600},\n",
       "  mean: 0.44886, std: 0.49738, params: {'min_samples_leaf': 60, 'min_samples_split': 1800},\n",
       "  mean: 0.44886, std: 0.49738, params: {'min_samples_leaf': 60, 'min_samples_split': 2000},\n",
       "  mean: 0.44886, std: 0.49738, params: {'min_samples_leaf': 70, 'min_samples_split': 1000},\n",
       "  mean: 0.44886, std: 0.49738, params: {'min_samples_leaf': 70, 'min_samples_split': 1200},\n",
       "  mean: 0.44886, std: 0.49738, params: {'min_samples_leaf': 70, 'min_samples_split': 1400},\n",
       "  mean: 0.44886, std: 0.49738, params: {'min_samples_leaf': 70, 'min_samples_split': 1600},\n",
       "  mean: 0.44886, std: 0.49738, params: {'min_samples_leaf': 70, 'min_samples_split': 1800},\n",
       "  mean: 0.44886, std: 0.49738, params: {'min_samples_leaf': 70, 'min_samples_split': 2000}],\n",
       " {'min_samples_leaf': 30, 'min_samples_split': 1000},\n",
       " 0.44886363636363635)"
      ]
     },
     "execution_count": 52,
     "metadata": {},
     "output_type": "execute_result"
    }
   ],
   "source": [
    "param_test3 = {'min_samples_split':range(1000,2100,200), 'min_samples_leaf':range(30,71,10)}\n",
    "gsearch3 = GridSearchCV(estimator = GradientBoostingClassifier(learning_rate=0.1, n_estimators=60,max_depth=9,max_features='sqrt', subsample=0.8, random_state=10), \n",
    "param_grid = param_test3, scoring='accuracy',n_jobs=-1,iid=False, cv=model_selection.LeaveOneOut())\n",
    "%time gsearch3.fit(df_train_x,df_train_y)\n",
    "gsearch3.grid_scores_, gsearch3.best_params_, gsearch3.best_score_"
   ]
  },
  {
   "cell_type": "code",
   "execution_count": 54,
   "metadata": {
    "_uuid": "fd86a63a2a7165adf0436f02b5d424ea991ba258"
   },
   "outputs": [
    {
     "data": {
      "text/plain": [
       "41.42857142857143"
      ]
     },
     "execution_count": 54,
     "metadata": {},
     "output_type": "execute_result"
    }
   ],
   "source": [
    "gsearch3.best_estimator_.score(X_valid, y_valid) * 100.0"
   ]
  },
  {
   "cell_type": "markdown",
   "metadata": {
    "_uuid": "4b5ebdb1ffcc05f12b7254a98886f2b28cbb3a7c"
   },
   "source": [
    "# Test 4"
   ]
  },
  {
   "cell_type": "code",
   "execution_count": null,
   "metadata": {
    "_uuid": "8a31ca97033663f259bdc1f7916e35fa4f03a667"
   },
   "outputs": [],
   "source": [
    "param_test4 = {'max_features':range(7,20,2)}\n",
    "gsearch4 = GridSearchCV(estimator = GradientBoostingClassifier(learning_rate=0.1, n_estimators=60,max_depth=9, min_samples_split=1200, min_samples_leaf=60, subsample=0.8, random_state=10),\n",
    "param_grid = param_test4, scoring='accuracy',n_jobs=-1,iid=False, cv=model_selection.LeaveOneOut())\n",
    "gsearch4.fit(df_train_x,df_train_y)\n",
    "gsearch4.grid_scores_, gsearch4.best_params_, gsearch4.best_score_"
   ]
  },
  {
   "cell_type": "markdown",
   "metadata": {
    "_uuid": "d3db18ca21d65dc07a9710dcbd861a5a13d56a65"
   },
   "source": [
    "# Test 5"
   ]
  },
  {
   "cell_type": "code",
   "execution_count": null,
   "metadata": {
    "_uuid": "6628544c1de3b813908d51925ec12642c77307f4"
   },
   "outputs": [],
   "source": [
    "param_test5 = {'subsample':[0.6,0.7,0.75,0.8,0.85,0.9]}\n",
    "gsearch5 = GridSearchCV(estimator = GradientBoostingClassifier(learning_rate=0.1, n_estimators=60,max_depth=9,min_samples_split=1200, min_samples_leaf=60, subsample=0.8, random_state=10,max_features=7),\n",
    "param_grid = param_test5, scoring='accuracy',n_jobs=-1,iid=False, cv=model_selection.LeaveOneOut())\n",
    "gsearch5.fit(df_train_x,df_train_y)\n",
    "gsearch5.grid_scores_, gsearch5.best_params_, gsearch5.best_score_"
   ]
  },
  {
   "cell_type": "code",
   "execution_count": 16,
   "metadata": {
    "_uuid": "feb70fbc47750b5f11134bede034d5dcc24ba3f0"
   },
   "outputs": [],
   "source": [
    "df_test = pd.read_csv(\"test.csv\")\n",
    "df_test = pd.get_dummies(df_test, columns=['earthling_country','period_of_stay','earthling_type','swimming_pool','exercise_room','basketball_court',\\\n",
    "        'yoga_classes','club','free_wifi','hotel_name','earthling_continent','review_month','review_weekday'])\n",
    "\n",
    "\n",
    "le=LabelEncoder()\n",
    "\n",
    "# Iterate over all the values of each column and extract their dtypes\n",
    "for col in df_test.columns.values:\n",
    "# Compare if the dtype is object\n",
    "    if df_test[col].dtypes=='object':\n",
    "    # Use LabelEncoder to do the numeric transformation\n",
    "        df_test[col]=le.fit_transform(df_test[col])\n",
    "    \n",
    "df_train, df_train_x, df_train_y = load_and_prepare_the_train_set()\n",
    "df_test = df_train[to_keep].copy()"
   ]
  },
  {
   "cell_type": "code",
   "execution_count": 17,
   "metadata": {
    "_uuid": "5843c432d3e3fd900e09eac90f4c3ee8553517d6"
   },
   "outputs": [],
   "source": [
    "preds = gsearch2.best_estimator_.predict(df_test)"
   ]
  },
  {
   "cell_type": "code",
   "execution_count": 18,
   "metadata": {
    "_uuid": "9f3bef2aab3a9e8328238cb3b483ebbcbf6388bc"
   },
   "outputs": [],
   "source": [
    "import os\n",
    "os.makedirs('submission', exist_ok=True) \n"
   ]
  },
  {
   "cell_type": "code",
   "execution_count": 21,
   "metadata": {
    "_uuid": "6709b8a62b3d20e2614f5e71ecdd0fb9057188fb"
   },
   "outputs": [],
   "source": [
    "submission = pd.DataFrame(preds,columns=['score'])\n",
    "submission.to_csv('./submission/submission.csv',index=False)"
   ]
  },
  {
   "cell_type": "code",
   "execution_count": null,
   "metadata": {
    "_uuid": "fba82a32c276e208484d7fa12f13cf836fe781d5"
   },
   "outputs": [],
   "source": [
    "!ls"
   ]
  },
  {
   "cell_type": "code",
   "execution_count": null,
   "metadata": {},
   "outputs": [],
   "source": [
    "df = pd.read_csv('submission/submission.csv')\n",
    "df"
   ]
  }
 ],
 "metadata": {
  "kernelspec": {
   "display_name": "Python 3",
   "language": "python",
   "name": "python3"
  },
  "language_info": {
   "codemirror_mode": {
    "name": "ipython",
    "version": 3
   },
   "file_extension": ".py",
   "mimetype": "text/x-python",
   "name": "python",
   "nbconvert_exporter": "python",
   "pygments_lexer": "ipython3",
   "version": "3.6.5"
  }
 },
 "nbformat": 4,
 "nbformat_minor": 2
}
